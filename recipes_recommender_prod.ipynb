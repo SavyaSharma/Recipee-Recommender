{
 "cells": [
  {
   "cell_type": "markdown",
   "metadata": {},
   "source": [
    "# Capstone Term 2 - Project\n",
    "\n",
    "* Marcos Bittencourt\n",
    "---\n",
    "* Contributors\n",
    "    * Todd McCullough [Git](https://github.com/tamccullough)\n",
    "    * Savya Sharma [Git](https://github.com/SavyaSharma)\n",
    "    * Marko Topitch [Git](https://github.com/TopMarko)\n",
    "---"
   ]
  },
  {
   "cell_type": "markdown",
   "metadata": {},
   "source": [
    "### Initialize Modules and Data"
   ]
  },
  {
   "cell_type": "markdown",
   "metadata": {},
   "source": [
    "##### Import the Needed Modules"
   ]
  },
  {
   "cell_type": "code",
   "execution_count": 1,
   "metadata": {},
   "outputs": [],
   "source": [
    "import pandas as pd\n",
    "import numpy as np\n",
    "import heapq\n",
    "from math import floor"
   ]
  },
  {
   "cell_type": "markdown",
   "metadata": {},
   "source": [
    "##### Import Surprise\n",
    "[Surprise](http://surpriselib.com/) is a Python scikit building and analyzing recommender systems that deal with explicit rating data."
   ]
  },
  {
   "cell_type": "code",
   "execution_count": 2,
   "metadata": {},
   "outputs": [],
   "source": [
    "from surprise import Reader, Dataset\n",
    "from surprise import KNNWithMeans\n",
    "from surprise.model_selection import cross_validate"
   ]
  },
  {
   "cell_type": "markdown",
   "metadata": {},
   "source": [
    "##### Import Data"
   ]
  },
  {
   "cell_type": "code",
   "execution_count": 3,
   "metadata": {},
   "outputs": [],
   "source": [
    "recipes_df = pd.read_csv('datasets/rr-recipes.csv')\n",
    "users_df = pd.read_csv('datasets/rr-users.csv')\n",
    "ratings_df = pd.read_csv('datasets/rr-ratings.csv')"
   ]
  },
  {
   "cell_type": "code",
   "execution_count": 4,
   "metadata": {},
   "outputs": [
    {
     "data": {
      "text/html": [
       "<div>\n",
       "<style scoped>\n",
       "    .dataframe tbody tr th:only-of-type {\n",
       "        vertical-align: middle;\n",
       "    }\n",
       "\n",
       "    .dataframe tbody tr th {\n",
       "        vertical-align: top;\n",
       "    }\n",
       "\n",
       "    .dataframe thead th {\n",
       "        text-align: right;\n",
       "    }\n",
       "</style>\n",
       "<table border=\"1\" class=\"dataframe\">\n",
       "  <thead>\n",
       "    <tr style=\"text-align: right;\">\n",
       "      <th></th>\n",
       "      <th>user</th>\n",
       "      <th>item</th>\n",
       "      <th>rating</th>\n",
       "    </tr>\n",
       "  </thead>\n",
       "  <tbody>\n",
       "    <tr>\n",
       "      <th>0</th>\n",
       "      <td>675719</td>\n",
       "      <td>7000</td>\n",
       "      <td>5</td>\n",
       "    </tr>\n",
       "    <tr>\n",
       "      <th>1</th>\n",
       "      <td>1478626</td>\n",
       "      <td>7000</td>\n",
       "      <td>5</td>\n",
       "    </tr>\n",
       "  </tbody>\n",
       "</table>\n",
       "</div>"
      ],
      "text/plain": [
       "      user  item  rating\n",
       "0   675719  7000       5\n",
       "1  1478626  7000       5"
      ]
     },
     "execution_count": 4,
     "metadata": {},
     "output_type": "execute_result"
    }
   ],
   "source": [
    "ratings_df.head(2)"
   ]
  },
  {
   "cell_type": "markdown",
   "metadata": {},
   "source": [
    "##### Define a Ratings scale\n",
    "This scale is determined by the lowest and highest rating possible. \n",
    "In this case the lowest rating is 1, while the highest is 5."
   ]
  },
  {
   "cell_type": "code",
   "execution_count": 5,
   "metadata": {},
   "outputs": [],
   "source": [
    "reader = Reader(rating_scale=(1,5)) # This just defines the rating scale\n",
    "data = Dataset.load_from_df(ratings_df[['user', 'item', 'rating']], reader=reader)"
   ]
  },
  {
   "cell_type": "markdown",
   "metadata": {},
   "source": [
    "### Build the model\n",
    "\n",
    "##### KNN with Means - Surprise\n",
    "\n",
    "[KNN with Means](https://surprise.readthedocs.io/en/stable/knn_inspired.html#surprise.prediction_algorithms.knns.KNNWithMeans) has been chosen for the recommender, which is a basic collaborative filtering algorithm, taking into account the mean ratings of each user."
   ]
  },
  {
   "cell_type": "code",
   "execution_count": 6,
   "metadata": {},
   "outputs": [],
   "source": [
    "def build_recommender(user_based=False, sim_type='cosine'):\n",
    "    sim_options = {\n",
    "        \"name\": sim_type,\n",
    "        \"user_based\": user_based\n",
    "    }\n",
    "\n",
    "    return KNNWithMeans(sim_options=sim_options)"
   ]
  },
  {
   "cell_type": "markdown",
   "metadata": {},
   "source": [
    "##### Calculate the Similarity Matrix\n",
    "\n",
    "Ignoring folds this builds the *Trainset* using [build_full_trainset()](https://surprise.readthedocs.io/en/stable/dataset.html#surprise.dataset.DatasetAutoFolds.build_full_trainset)\n",
    "\n",
    "The Trainset is built using the data, but then contains more information about the data"
   ]
  },
  {
   "cell_type": "code",
   "execution_count": 7,
   "metadata": {},
   "outputs": [
    {
     "name": "stdout",
     "output_type": "stream",
     "text": [
      "Computing the cosine similarity matrix...\n",
      "Done computing similarity matrix.\n"
     ]
    },
    {
     "data": {
      "text/plain": [
       "<surprise.prediction_algorithms.knns.KNNWithMeans at 0x7fc415f93910>"
      ]
     },
     "execution_count": 7,
     "metadata": {},
     "output_type": "execute_result"
    }
   ],
   "source": [
    "trainset = data.build_full_trainset()\n",
    "\n",
    "# user_based_recommender = build_recommender(user_based=True)\n",
    "item_based_recommender = build_recommender()\n",
    "\n",
    "# User based seems to give a memory error when fit, due to the much larger amount of users than recipes.\n",
    "# user_based_recommender.fit(trainset)\n",
    "item_based_recommender.fit(trainset)"
   ]
  },
  {
   "cell_type": "markdown",
   "metadata": {},
   "source": [
    "### Evaluate the Model\n",
    "\n",
    "Using [cross_validation()](https://surprise.readthedocs.io/en/stable/model_selection.html#cross-validation) from surprise, we can quickly evaluate the model using a few metrics. "
   ]
  },
  {
   "cell_type": "code",
   "execution_count": 8,
   "metadata": {},
   "outputs": [
    {
     "name": "stdout",
     "output_type": "stream",
     "text": [
      "Computing the cosine similarity matrix...\n",
      "Done computing similarity matrix.\n",
      "Computing the cosine similarity matrix...\n",
      "Done computing similarity matrix.\n",
      "Computing the cosine similarity matrix...\n",
      "Done computing similarity matrix.\n",
      "Computing the cosine similarity matrix...\n",
      "Done computing similarity matrix.\n",
      "Computing the cosine similarity matrix...\n",
      "Done computing similarity matrix.\n",
      "Evaluating RMSE, MAE of algorithm KNNWithMeans on 5 split(s).\n",
      "\n",
      "                  Fold 1  Fold 2  Fold 3  Fold 4  Fold 5  Mean    Std     \n",
      "RMSE (testset)    0.9080  0.9073  0.9058  0.9046  0.9060  0.9064  0.0012  \n",
      "MAE (testset)     0.6254  0.6257  0.6253  0.6247  0.6253  0.6253  0.0003  \n",
      "Fit time          20.30   20.39   21.30   21.95   21.69   21.13   0.67    \n",
      "Test time         15.67   15.90   16.02   16.90   16.97   16.29   0.54    \n"
     ]
    },
    {
     "data": {
      "text/plain": [
       "{'test_rmse': array([0.9080496 , 0.90728224, 0.90583113, 0.90463127, 0.90596804]),\n",
       " 'test_mae': array([0.62540011, 0.62573803, 0.62533957, 0.62469321, 0.62529947]),\n",
       " 'fit_time': (20.30126142501831,\n",
       "  20.39469814300537,\n",
       "  21.295984983444214,\n",
       "  21.950374126434326,\n",
       "  21.693845510482788),\n",
       " 'test_time': (15.667166233062744,\n",
       "  15.899041891098022,\n",
       "  16.023027181625366,\n",
       "  16.902676343917847,\n",
       "  16.974899768829346)}"
      ]
     },
     "execution_count": 8,
     "metadata": {},
     "output_type": "execute_result"
    }
   ],
   "source": [
    "cross_validate(item_based_recommender, data, measures=['RMSE', 'MAE'], cv=5, verbose=True)"
   ]
  },
  {
   "cell_type": "markdown",
   "metadata": {},
   "source": [
    "##### Prediction\n",
    "\n",
    "Using this test to see how a users might rate a specific recipe."
   ]
  },
  {
   "cell_type": "code",
   "execution_count": 9,
   "metadata": {},
   "outputs": [
    {
     "name": "stdout",
     "output_type": "stream",
     "text": [
      "4.51, 4.51, 4.51, 4.51, 4.51, 4.51, 4.51, 4.51, 4.51, 4.51, 4.51, 4.51, 4.51, 4.51, 4.51, 4.51, 4.51, 4.51, 4.51, 4.51, 4.51, 4.51, 4.51, 4.51, 4.51, 4.51, 4.51, 4.51, 4.51, 4.51, 4.51, 4.51, 4.51, 4.51, 4.51, 4.51, 4.51, 4.51, 4.51, 4.51, 4.51, 4.51, 4.51, 4.51, 4.51, 4.51, 4.51, 4.51, 4.51, 4.51, 4.51, 4.51, 4.51, 4.51, 4.51, 4.51, 4.51, 4.51, 4.51, 4.51, 4.51, 4.51, 4.51, 4.51, 4.51, 4.51, 4.51, 4.51, 4.51, 4.51, 4.51, 4.51, 4.51, 4.51, 4.51, 4.51, 4.51, 4.51, 4.51, 4.51, 4.51, 4.51, 4.51, 4.51, 4.51, 4.51, 4.51, 4.51, 4.51, 4.51, 4.51, 4.51, 4.51, 4.51, 4.51, 4.51, 4.51, 4.51, 4.51, 4.51, 4.51, 4.51, 4.51, 4.51, 4.51, 4.51, 4.51, 4.51, 4.51, 4.51, 4.51, 4.51, 4.51, 4.51, 4.51, 4.51, 4.51, 4.51, 4.51, 4.51, 4.51, 4.51, 4.51, 4.51, 4.51, 4.51, 4.51, 4.51, 4.51, 4.51, 4.51, 4.51, 4.51, 4.51, 4.51, 4.51, 4.51, 4.51, 4.51, 4.51, 4.51, 4.51, 4.51, 4.51, 4.51, 4.51, 4.51, 4.51, 4.51, 4.51, "
     ]
    }
   ],
   "source": [
    "i = 1\n",
    "for i in range(150):\n",
    "    prediction = item_based_recommender.predict(i,167)\n",
    "    print(round(prediction.est,2), end=', ')\n",
    "    i = i + 1"
   ]
  },
  {
   "cell_type": "markdown",
   "metadata": {},
   "source": [
    "### Inference\n",
    "\n",
    "Here is the meat and potatoes(har) of the whole thing."
   ]
  },
  {
   "cell_type": "code",
   "execution_count": 12,
   "metadata": {
    "scrolled": false
   },
   "outputs": [],
   "source": [
    "def get_r(user_id):\n",
    "    # Select which system to use. Due to memory constraints, item based is the only viable option\n",
    "    recommender_system = item_based_recommender\n",
    "    # N will represent how many items to recommend\n",
    "    N = 1000\n",
    "    \n",
    "    # The setting to a set and back to list is a failsafe.\n",
    "    rated_items = list(set(ratings_df.loc[ratings_df['user'] == user_id]['item'].tolist()))\n",
    "    ratings_list = recipes_df['recipe_id'].values.tolist()\n",
    "    reduced_ratings = ratings_df.loc[ratings_df['item'].isin(ratings_list)].copy()\n",
    "    \n",
    "    # Self explanitory name\n",
    "    all_item_ids = list(set(reduced_ratings['item'].tolist()))\n",
    "    \n",
    "    # New_items just represents all the items not rated by the user\n",
    "    new_items = [x for x in all_item_ids if x not in rated_items]\n",
    "    \n",
    "    # Estimate ratings for all unrated items\n",
    "    predicted_ratings = {}\n",
    "    for item_id in new_items:\n",
    "        predicted_ratings[item_id] = recommender_system.predict(user_id, item_id).est\n",
    "        pass\n",
    "    \n",
    "    # Get the item_ids for the top ratings\n",
    "    recommended_ids = heapq.nlargest(N, predicted_ratings, key=predicted_ratings.get)\n",
    "    recommended_ids = sorted(recommended_ids)\n",
    "    \n",
    "    # predicted_ratings\n",
    "    recommended_df = recipes_df.loc[recipes_df['recipe_id'].isin(recommended_ids)].copy()\n",
    "    #recommended_df.insert(1, 'pred_rating', np.zeros(len(recommended_ids)))\n",
    "    recommended_df.insert(1, 'pred_rating', 0)\n",
    "    \n",
    "    # recommended_df = recipes_df.copy()\n",
    "    for idx,item_id in enumerate(recommended_ids):\n",
    "        recommended_df.iloc[idx, recommended_df.columns.get_loc('pred_rating')] = predicted_ratings[item_id]\n",
    "        pass\n",
    "    return recommended_df.head(N).sort_values('pred_rating', ascending=False)\n",
    "\n",
    "def set_up_rr(user_id,ingredient_list):\n",
    "    # split the input up into an array for the loop\n",
    "    items = ingredient_list.split(',')\n",
    "    rr_list = get_r(user_id)\n",
    "    for j in range(0,len(items)):\n",
    "        print(items[j])\n",
    "        rr_list = rr_list[rr_list['ingredients'].str.contains(items[j])]\n",
    "    return rr_list\n",
    "\n",
    "def mk_tbl(rows):\n",
    "    #this is for creating dynamic tables\n",
    "    arr = []\n",
    "    for row in rows:\n",
    "        title = row[2]\n",
    "        r_t = row[5]\n",
    "        p_t = row[3]\n",
    "        c_t = row[4]\n",
    "        url = row[8]\n",
    "        pred = row[1]\n",
    "        arr.append([pred,title,r_t,p_t,c_t,url])\n",
    "    return arr"
   ]
  },
  {
   "cell_type": "markdown",
   "metadata": {},
   "source": [
    "### Get a Recommendation Based on Ingredients\n",
    "\n",
    "The final code that will be impletented in a cleaner fashion through the browser interface."
   ]
  },
  {
   "cell_type": "code",
   "execution_count": 14,
   "metadata": {
    "scrolled": false
   },
   "outputs": [
    {
     "name": "stdout",
     "output_type": "stream",
     "text": [
      "tofu\n"
     ]
    },
    {
     "data": {
      "text/html": [
       "<div>\n",
       "<style scoped>\n",
       "    .dataframe tbody tr th:only-of-type {\n",
       "        vertical-align: middle;\n",
       "    }\n",
       "\n",
       "    .dataframe tbody tr th {\n",
       "        vertical-align: top;\n",
       "    }\n",
       "\n",
       "    .dataframe thead th {\n",
       "        text-align: right;\n",
       "    }\n",
       "</style>\n",
       "<table border=\"1\" class=\"dataframe\">\n",
       "  <thead>\n",
       "    <tr style=\"text-align: right;\">\n",
       "      <th></th>\n",
       "      <th>0</th>\n",
       "      <th>1</th>\n",
       "      <th>2</th>\n",
       "      <th>3</th>\n",
       "      <th>4</th>\n",
       "      <th>5</th>\n",
       "      <th>6</th>\n",
       "      <th>7</th>\n",
       "      <th>8</th>\n",
       "      <th>9</th>\n",
       "    </tr>\n",
       "  </thead>\n",
       "  <tbody>\n",
       "    <tr>\n",
       "      <th>0</th>\n",
       "      <td>14095</td>\n",
       "      <td>4.98456</td>\n",
       "      <td>Tofu Fudge Mocha Bars Recipe</td>\n",
       "      <td>5 m</td>\n",
       "      <td>10 m</td>\n",
       "      <td>15 m</td>\n",
       "      <td>tofu,2 tablespoons safflower oil,salt,sugar,co...</td>\n",
       "      <td>Preheat oven to 325 degrees F (165 degrees C)....</td>\n",
       "      <td>https://www.allrecipes.com/recipe/14095</td>\n",
       "      <td>https://images.media-allrecipes.com/userphotos...</td>\n",
       "    </tr>\n",
       "    <tr>\n",
       "      <th>1</th>\n",
       "      <td>14176</td>\n",
       "      <td>4.97616</td>\n",
       "      <td>Cucumber and Tomato Salad Recipe</td>\n",
       "      <td>15 m</td>\n",
       "      <td>X</td>\n",
       "      <td>15 m</td>\n",
       "      <td>tomato,cucumber,onion,bean,tofu,basil,salad dr...</td>\n",
       "      <td>In a large bowl, combine the tomato, cucumber,...</td>\n",
       "      <td>https://www.allrecipes.com/recipe/14176</td>\n",
       "      <td>https://images.media-allrecipes.com/userphotos...</td>\n",
       "    </tr>\n",
       "  </tbody>\n",
       "</table>\n",
       "</div>"
      ],
      "text/plain": [
       "       0        1                                  2     3     4     5  \\\n",
       "0  14095  4.98456      Tofu Fudge Mocha Bars Recipe    5 m  10 m  15 m   \n",
       "1  14176  4.97616  Cucumber and Tomato Salad Recipe   15 m     X  15 m   \n",
       "\n",
       "                                                   6  \\\n",
       "0  tofu,2 tablespoons safflower oil,salt,sugar,co...   \n",
       "1  tomato,cucumber,onion,bean,tofu,basil,salad dr...   \n",
       "\n",
       "                                                   7  \\\n",
       "0  Preheat oven to 325 degrees F (165 degrees C)....   \n",
       "1  In a large bowl, combine the tomato, cucumber,...   \n",
       "\n",
       "                                         8  \\\n",
       "0  https://www.allrecipes.com/recipe/14095   \n",
       "1  https://www.allrecipes.com/recipe/14176   \n",
       "\n",
       "                                                   9  \n",
       "0  https://images.media-allrecipes.com/userphotos...  \n",
       "1  https://images.media-allrecipes.com/userphotos...  "
      ]
     },
     "execution_count": 14,
     "metadata": {},
     "output_type": "execute_result"
    }
   ],
   "source": [
    "user_id = 2617981\n",
    "ingredient_list = 'tofu'\n",
    "table_list = set_up_rr(user_id,ingredient_list)\n",
    "\n",
    "table_list = table_list.to_numpy()\n",
    "\n",
    "test = pd.DataFrame(table_list)\n",
    "test"
   ]
  },
  {
   "cell_type": "code",
   "execution_count": 15,
   "metadata": {},
   "outputs": [],
   "source": [
    "got_it = pd.DataFrame(mk_tbl(table_list))"
   ]
  },
  {
   "cell_type": "markdown",
   "metadata": {},
   "source": [
    "## Save the Model"
   ]
  },
  {
   "cell_type": "code",
   "execution_count": 16,
   "metadata": {},
   "outputs": [],
   "source": [
    "import pickle\n",
    "filename = 'recipes_recommender_model.sav'\n",
    "pickle.dump(item_based_recommender, open(filename, 'wb'))"
   ]
  },
  {
   "cell_type": "code",
   "execution_count": 17,
   "metadata": {},
   "outputs": [],
   "source": [
    "rr_model = pickle.load(open(filename, 'rb'))"
   ]
  },
  {
   "cell_type": "code",
   "execution_count": 18,
   "metadata": {},
   "outputs": [
    {
     "name": "stdout",
     "output_type": "stream",
     "text": [
      "Computing the cosine similarity matrix...\n",
      "Done computing similarity matrix.\n",
      "Computing the cosine similarity matrix...\n",
      "Done computing similarity matrix.\n",
      "Computing the cosine similarity matrix...\n",
      "Done computing similarity matrix.\n",
      "Computing the cosine similarity matrix...\n",
      "Done computing similarity matrix.\n",
      "Computing the cosine similarity matrix...\n",
      "Done computing similarity matrix.\n",
      "Evaluating RMSE, MAE of algorithm KNNWithMeans on 5 split(s).\n",
      "\n",
      "                  Fold 1  Fold 2  Fold 3  Fold 4  Fold 5  Mean    Std     \n",
      "RMSE (testset)    0.9071  0.9070  0.9061  0.9060  0.9066  0.9066  0.0004  \n",
      "MAE (testset)     0.6266  0.6249  0.6253  0.6253  0.6251  0.6254  0.0006  \n",
      "Fit time          22.56   24.01   21.76   22.46   25.57   23.27   1.36    \n",
      "Test time         16.98   17.87   18.30   15.50   18.73   17.48   1.15    \n"
     ]
    },
    {
     "data": {
      "text/plain": [
       "{'test_rmse': array([0.9071256 , 0.90697745, 0.90610662, 0.90600469, 0.90660522]),\n",
       " 'test_mae': array([0.62662526, 0.62488307, 0.62527877, 0.62525857, 0.62507525]),\n",
       " 'fit_time': (22.558342695236206,\n",
       "  24.009589433670044,\n",
       "  21.762155532836914,\n",
       "  22.45959758758545,\n",
       "  25.570380926132202),\n",
       " 'test_time': (16.97546100616455,\n",
       "  17.86919665336609,\n",
       "  18.300251483917236,\n",
       "  15.498399496078491,\n",
       "  18.733608961105347)}"
      ]
     },
     "execution_count": 18,
     "metadata": {},
     "output_type": "execute_result"
    }
   ],
   "source": [
    "cross_validate(rr_model, data, measures=['RMSE', 'MAE'], cv=5, verbose=True)"
   ]
  },
  {
   "cell_type": "code",
   "execution_count": null,
   "metadata": {},
   "outputs": [],
   "source": []
  }
 ],
 "metadata": {
  "file_extension": ".py",
  "kernelspec": {
   "display_name": "Python 3",
   "language": "python",
   "name": "python3"
  },
  "language_info": {
   "codemirror_mode": {
    "name": "ipython",
    "version": 3
   },
   "file_extension": ".py",
   "mimetype": "text/x-python",
   "name": "python",
   "nbconvert_exporter": "python",
   "pygments_lexer": "ipython3",
   "version": "3.7.6"
  },
  "mimetype": "text/x-python",
  "name": "python",
  "npconvert_exporter": "python",
  "pygments_lexer": "ipython3",
  "version": 3
 },
 "nbformat": 4,
 "nbformat_minor": 2
}
